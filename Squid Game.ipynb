{
 "cells": [
  {
   "cell_type": "markdown",
   "id": "cbb793dc",
   "metadata": {},
   "source": [
    "### Importing all the required libraries"
   ]
  },
  {
   "cell_type": "code",
   "execution_count": 1,
   "id": "691e38a4",
   "metadata": {},
   "outputs": [],
   "source": [
    "import numpy as np\n",
    "import pandas as pd\n",
    "import matplotlib.pyplot as plt\n",
    "import seaborn as sns\n",
    "\n",
    "import spacy\n",
    "from geotext import GeoText\n",
    "\n",
    "import re\n",
    "import nltk\n",
    "from nltk.corpus import stopwords\n",
    "from nltk.tokenize import word_tokenize\n",
    "from nltk.stem import WordNetLemmatizer\n",
    "from sklearn.feature_extraction.text import TfidfVectorizer\n",
    "\n",
    "from sklearn.svm import SVC\n",
    "from sklearn.metrics import classification_report, confusion_matrix, accuracy_score, f1_score\n",
    "\n",
    "#nltk.download(\"stopwords\")\n",
    "#nltk.download(\"punkt\")\n",
    "#nltk.download(\"wordnet\")"
   ]
  },
  {
   "cell_type": "markdown",
   "id": "c56a8a8b",
   "metadata": {},
   "source": [
    "### Importing the data from csv file"
   ]
  },
  {
   "cell_type": "code",
   "execution_count": 2,
   "id": "e043a2cf",
   "metadata": {},
   "outputs": [],
   "source": [
    "data = pd.read_csv(\"tweets_v8.csv\")"
   ]
  },
  {
   "cell_type": "code",
   "execution_count": 3,
   "id": "4ba48689",
   "metadata": {},
   "outputs": [
    {
     "data": {
      "text/html": [
       "<div>\n",
       "<style scoped>\n",
       "    .dataframe tbody tr th:only-of-type {\n",
       "        vertical-align: middle;\n",
       "    }\n",
       "\n",
       "    .dataframe tbody tr th {\n",
       "        vertical-align: top;\n",
       "    }\n",
       "\n",
       "    .dataframe thead th {\n",
       "        text-align: right;\n",
       "    }\n",
       "</style>\n",
       "<table border=\"1\" class=\"dataframe\">\n",
       "  <thead>\n",
       "    <tr style=\"text-align: right;\">\n",
       "      <th></th>\n",
       "      <th>user_name</th>\n",
       "      <th>user_location</th>\n",
       "      <th>user_description</th>\n",
       "      <th>user_created</th>\n",
       "      <th>user_followers</th>\n",
       "      <th>user_friends</th>\n",
       "      <th>user_favourites</th>\n",
       "      <th>user_verified</th>\n",
       "      <th>date</th>\n",
       "      <th>text</th>\n",
       "      <th>source</th>\n",
       "      <th>is_retweet</th>\n",
       "    </tr>\n",
       "  </thead>\n",
       "  <tbody>\n",
       "    <tr>\n",
       "      <th>0</th>\n",
       "      <td>the _ûndër-ratèd niggáh👊🏾</td>\n",
       "      <td>NaN</td>\n",
       "      <td>@ManUtd die hard❤️❤️💪🏿💪🏿\\n\\n\\nYOLO\\n\\n\\nJ'ai b...</td>\n",
       "      <td>2019-09-06 19:24:57+00:00</td>\n",
       "      <td>581</td>\n",
       "      <td>1035</td>\n",
       "      <td>8922</td>\n",
       "      <td>False</td>\n",
       "      <td>2021-10-06 12:05:38+00:00</td>\n",
       "      <td>When life hits and the same time poverty strik...</td>\n",
       "      <td>Twitter for Android</td>\n",
       "      <td>False</td>\n",
       "    </tr>\n",
       "    <tr>\n",
       "      <th>1</th>\n",
       "      <td>Best uncle on planet earth</td>\n",
       "      <td>NaN</td>\n",
       "      <td>NaN</td>\n",
       "      <td>2013-05-08 19:35:26+00:00</td>\n",
       "      <td>741</td>\n",
       "      <td>730</td>\n",
       "      <td>8432</td>\n",
       "      <td>False</td>\n",
       "      <td>2021-10-06 12:05:22+00:00</td>\n",
       "      <td>That marble episode of #SquidGame  ruined me. 😭😭😭</td>\n",
       "      <td>Twitter for Android</td>\n",
       "      <td>False</td>\n",
       "    </tr>\n",
       "    <tr>\n",
       "      <th>2</th>\n",
       "      <td>marcie</td>\n",
       "      <td>NaN</td>\n",
       "      <td>animal crossing. chicken nuggets. baby yoda. s...</td>\n",
       "      <td>2009-02-21 10:31:30+00:00</td>\n",
       "      <td>562</td>\n",
       "      <td>1197</td>\n",
       "      <td>62732</td>\n",
       "      <td>False</td>\n",
       "      <td>2021-10-06 12:05:22+00:00</td>\n",
       "      <td>#Squidgame time</td>\n",
       "      <td>Twitter Web App</td>\n",
       "      <td>False</td>\n",
       "    </tr>\n",
       "    <tr>\n",
       "      <th>3</th>\n",
       "      <td>YoMo.Mdp</td>\n",
       "      <td>Any pronouns</td>\n",
       "      <td>Where the heck is the karma\\nI'm going on my s...</td>\n",
       "      <td>2021-02-14 13:21:22+00:00</td>\n",
       "      <td>3</td>\n",
       "      <td>277</td>\n",
       "      <td>1341</td>\n",
       "      <td>False</td>\n",
       "      <td>2021-10-06 12:05:04+00:00</td>\n",
       "      <td>//Blood on 1st slide\\nI'm joining the squidgam...</td>\n",
       "      <td>Twitter Web App</td>\n",
       "      <td>False</td>\n",
       "    </tr>\n",
       "    <tr>\n",
       "      <th>4</th>\n",
       "      <td>Laura Reactions</td>\n",
       "      <td>France</td>\n",
       "      <td>I talk and I make reactions videos about shows...</td>\n",
       "      <td>2018-12-19 20:38:28+00:00</td>\n",
       "      <td>330</td>\n",
       "      <td>152</td>\n",
       "      <td>2278</td>\n",
       "      <td>False</td>\n",
       "      <td>2021-10-06 12:05:00+00:00</td>\n",
       "      <td>The two first games, players were killed by th...</td>\n",
       "      <td>Twitter Web App</td>\n",
       "      <td>False</td>\n",
       "    </tr>\n",
       "  </tbody>\n",
       "</table>\n",
       "</div>"
      ],
      "text/plain": [
       "                    user_name  user_location  \\\n",
       "0   the _ûndër-ratèd niggáh👊🏾            NaN   \n",
       "1  Best uncle on planet earth            NaN   \n",
       "2                      marcie            NaN   \n",
       "3                    YoMo.Mdp  Any pronouns    \n",
       "4             Laura Reactions         France   \n",
       "\n",
       "                                    user_description  \\\n",
       "0  @ManUtd die hard❤️❤️💪🏿💪🏿\\n\\n\\nYOLO\\n\\n\\nJ'ai b...   \n",
       "1                                                NaN   \n",
       "2  animal crossing. chicken nuggets. baby yoda. s...   \n",
       "3  Where the heck is the karma\\nI'm going on my s...   \n",
       "4  I talk and I make reactions videos about shows...   \n",
       "\n",
       "                user_created  user_followers  user_friends  user_favourites  \\\n",
       "0  2019-09-06 19:24:57+00:00             581          1035             8922   \n",
       "1  2013-05-08 19:35:26+00:00             741           730             8432   \n",
       "2  2009-02-21 10:31:30+00:00             562          1197            62732   \n",
       "3  2021-02-14 13:21:22+00:00               3           277             1341   \n",
       "4  2018-12-19 20:38:28+00:00             330           152             2278   \n",
       "\n",
       "   user_verified                       date  \\\n",
       "0          False  2021-10-06 12:05:38+00:00   \n",
       "1          False  2021-10-06 12:05:22+00:00   \n",
       "2          False  2021-10-06 12:05:22+00:00   \n",
       "3          False  2021-10-06 12:05:04+00:00   \n",
       "4          False  2021-10-06 12:05:00+00:00   \n",
       "\n",
       "                                                text               source  \\\n",
       "0  When life hits and the same time poverty strik...  Twitter for Android   \n",
       "1  That marble episode of #SquidGame  ruined me. 😭😭😭  Twitter for Android   \n",
       "2                                    #Squidgame time      Twitter Web App   \n",
       "3  //Blood on 1st slide\\nI'm joining the squidgam...      Twitter Web App   \n",
       "4  The two first games, players were killed by th...      Twitter Web App   \n",
       "\n",
       "   is_retweet  \n",
       "0       False  \n",
       "1       False  \n",
       "2       False  \n",
       "3       False  \n",
       "4       False  "
      ]
     },
     "execution_count": 3,
     "metadata": {},
     "output_type": "execute_result"
    }
   ],
   "source": [
    "data.head()"
   ]
  },
  {
   "cell_type": "markdown",
   "id": "556f0e81",
   "metadata": {},
   "source": [
    "### Removing all the irrelavent columns and rows with null values"
   ]
  },
  {
   "cell_type": "code",
   "execution_count": 4,
   "id": "a91b570b",
   "metadata": {},
   "outputs": [],
   "source": [
    "num_missing = data[\"user_location\"].isna().sum()"
   ]
  },
  {
   "cell_type": "code",
   "execution_count": 5,
   "id": "a20d22fa",
   "metadata": {},
   "outputs": [],
   "source": [
    "data_cleaned = data.dropna(subset=['user_location'])"
   ]
  },
  {
   "cell_type": "code",
   "execution_count": 6,
   "id": "6a07c94c",
   "metadata": {},
   "outputs": [
    {
     "data": {
      "text/plain": [
       "(56149, 12)"
      ]
     },
     "execution_count": 6,
     "metadata": {},
     "output_type": "execute_result"
    }
   ],
   "source": [
    "data_cleaned.shape"
   ]
  },
  {
   "cell_type": "code",
   "execution_count": 7,
   "id": "5aac6b18",
   "metadata": {},
   "outputs": [],
   "source": [
    "data_cleaned = data_cleaned.drop(['user_description', 'user_created', 'user_name', 'user_followers', 'user_friends', 'user_favourites',\n",
    "                                'user_verified', 'date', 'source', 'is_retweet'], axis=1)"
   ]
  },
  {
   "cell_type": "markdown",
   "id": "daa72243",
   "metadata": {},
   "source": [
    "### Creating a function to validate a location using NER, Regex and GeoText"
   ]
  },
  {
   "cell_type": "code",
   "execution_count": 8,
   "id": "f6e912d7",
   "metadata": {},
   "outputs": [],
   "source": [
    "nlp = spacy.load(\"en_core_web_sm\")\n",
    "\n",
    "def is_valid_location(text):\n",
    "    if pd.isnull(text) or len(text) < 2:\n",
    "        return False\n",
    "    \n",
    "    if len(re.findall(r'[a-zA-Z]', text)) < 2:\n",
    "        return False\n",
    "\n",
    "    places = GeoText(text)\n",
    "    if places.cities or places.countries:\n",
    "        return True\n",
    "\n",
    "    doc = nlp(text)\n",
    "    for ent in doc.ents:\n",
    "        if ent.label_ in [\"GPE\", \"LOC\", \"FAC\"]:\n",
    "            return True\n",
    "\n",
    "    return False"
   ]
  },
  {
   "cell_type": "markdown",
   "id": "5b9acdb0",
   "metadata": {},
   "source": [
    "### creating a function to clean text and applying it to the tweet text from dataset"
   ]
  },
  {
   "cell_type": "code",
   "execution_count": 9,
   "id": "031045e0",
   "metadata": {},
   "outputs": [],
   "source": [
    "def clean_text(text):\n",
    "    if isinstance(text, str):  \n",
    "        text = text.lower()  \n",
    "        text = re.sub(r\"http\\S+|www\\S+\", \"\", text)  \n",
    "        text = re.sub(r\"@\\w+\", \"\", text)  \n",
    "        text = re.sub(r\"#\\w+\", \"\", text)  \n",
    "        text = re.sub(r\"[^a-zA-Z\\s]\", \"\", text)  \n",
    "        text = re.sub(r\"\\s+\", \" \", text).strip()  \n",
    "        \n",
    "        words = word_tokenize(text)\n",
    "\n",
    "        stop_words = set(stopwords.words(\"english\"))\n",
    "        words = [word for word in words if word not in stop_words]\n",
    "\n",
    "        lemmatizer = WordNetLemmatizer()\n",
    "        words = [lemmatizer.lemmatize(word) for word in words]\n",
    "\n",
    "        return \" \".join(words)\n",
    "    return \"\"\n"
   ]
  },
  {
   "cell_type": "code",
   "execution_count": 10,
   "id": "77eabfbf",
   "metadata": {},
   "outputs": [],
   "source": [
    "data_cleaned[\"is_valid_location\"] = data_cleaned[\"user_location\"].apply(is_valid_location)\n",
    "data_cleaned = data_cleaned[data_cleaned[\"is_valid_location\"]].reset_index(drop=True)"
   ]
  },
  {
   "cell_type": "code",
   "execution_count": 11,
   "id": "34cdfb41",
   "metadata": {},
   "outputs": [],
   "source": [
    "#data_cleaned[\"cleaned_text\"] = None\n",
    "data_cleaned[\"cleaned_text\"] = data_cleaned[\"text\"].apply(clean_text)"
   ]
  },
  {
   "cell_type": "markdown",
   "id": "8c6b16e3",
   "metadata": {},
   "source": [
    "### Creating TF-IDF vectors for the cleaned text"
   ]
  },
  {
   "cell_type": "code",
   "execution_count": 12,
   "id": "40641098",
   "metadata": {},
   "outputs": [
    {
     "name": "stdout",
     "output_type": "stream",
     "text": [
      "TF-IDF shape: (39275, 5000)\n"
     ]
    }
   ],
   "source": [
    "tfidf_vectorizer = TfidfVectorizer(max_features=5000)\n",
    "tfidf_vectors = tfidf_vectorizer.fit_transform(data_cleaned['cleaned_text'])\n",
    "\n",
    "print(\"TF-IDF shape:\", tfidf_vectors.shape)"
   ]
  },
  {
   "cell_type": "markdown",
   "id": "a5eaaff5",
   "metadata": {},
   "source": [
    "### Importing the training data and processing it to feed the model"
   ]
  },
  {
   "cell_type": "code",
   "execution_count": 13,
   "id": "28fe4662",
   "metadata": {},
   "outputs": [
    {
     "name": "stdout",
     "output_type": "stream",
     "text": [
      "TF-IDF shape: (4869, 5000)\n"
     ]
    }
   ],
   "source": [
    "train_data = pd.read_csv(\"tweet_sentiment.csv\")\n",
    "train_data[\"cleaned_text\"] = train_data[\"cleaned_text\"].fillna(\"\")\n",
    "tfidf_vectors_train = tfidf_vectorizer.fit_transform(train_data['cleaned_text'])\n",
    "print(\"TF-IDF shape:\", tfidf_vectors_train.shape)\n",
    "\n",
    "X_tfidf_train = tfidf_vectors_train.toarray()\n",
    "y = train_data['label']"
   ]
  },
  {
   "cell_type": "markdown",
   "id": "4caba326",
   "metadata": {},
   "source": [
    "### Building the svm model and fitting it with training data"
   ]
  },
  {
   "cell_type": "code",
   "execution_count": 14,
   "id": "bf216898",
   "metadata": {},
   "outputs": [
    {
     "data": {
      "text/html": [
       "<style>#sk-container-id-1 {color: black;}#sk-container-id-1 pre{padding: 0;}#sk-container-id-1 div.sk-toggleable {background-color: white;}#sk-container-id-1 label.sk-toggleable__label {cursor: pointer;display: block;width: 100%;margin-bottom: 0;padding: 0.3em;box-sizing: border-box;text-align: center;}#sk-container-id-1 label.sk-toggleable__label-arrow:before {content: \"▸\";float: left;margin-right: 0.25em;color: #696969;}#sk-container-id-1 label.sk-toggleable__label-arrow:hover:before {color: black;}#sk-container-id-1 div.sk-estimator:hover label.sk-toggleable__label-arrow:before {color: black;}#sk-container-id-1 div.sk-toggleable__content {max-height: 0;max-width: 0;overflow: hidden;text-align: left;background-color: #f0f8ff;}#sk-container-id-1 div.sk-toggleable__content pre {margin: 0.2em;color: black;border-radius: 0.25em;background-color: #f0f8ff;}#sk-container-id-1 input.sk-toggleable__control:checked~div.sk-toggleable__content {max-height: 200px;max-width: 100%;overflow: auto;}#sk-container-id-1 input.sk-toggleable__control:checked~label.sk-toggleable__label-arrow:before {content: \"▾\";}#sk-container-id-1 div.sk-estimator input.sk-toggleable__control:checked~label.sk-toggleable__label {background-color: #d4ebff;}#sk-container-id-1 div.sk-label input.sk-toggleable__control:checked~label.sk-toggleable__label {background-color: #d4ebff;}#sk-container-id-1 input.sk-hidden--visually {border: 0;clip: rect(1px 1px 1px 1px);clip: rect(1px, 1px, 1px, 1px);height: 1px;margin: -1px;overflow: hidden;padding: 0;position: absolute;width: 1px;}#sk-container-id-1 div.sk-estimator {font-family: monospace;background-color: #f0f8ff;border: 1px dotted black;border-radius: 0.25em;box-sizing: border-box;margin-bottom: 0.5em;}#sk-container-id-1 div.sk-estimator:hover {background-color: #d4ebff;}#sk-container-id-1 div.sk-parallel-item::after {content: \"\";width: 100%;border-bottom: 1px solid gray;flex-grow: 1;}#sk-container-id-1 div.sk-label:hover label.sk-toggleable__label {background-color: #d4ebff;}#sk-container-id-1 div.sk-serial::before {content: \"\";position: absolute;border-left: 1px solid gray;box-sizing: border-box;top: 0;bottom: 0;left: 50%;z-index: 0;}#sk-container-id-1 div.sk-serial {display: flex;flex-direction: column;align-items: center;background-color: white;padding-right: 0.2em;padding-left: 0.2em;position: relative;}#sk-container-id-1 div.sk-item {position: relative;z-index: 1;}#sk-container-id-1 div.sk-parallel {display: flex;align-items: stretch;justify-content: center;background-color: white;position: relative;}#sk-container-id-1 div.sk-item::before, #sk-container-id-1 div.sk-parallel-item::before {content: \"\";position: absolute;border-left: 1px solid gray;box-sizing: border-box;top: 0;bottom: 0;left: 50%;z-index: -1;}#sk-container-id-1 div.sk-parallel-item {display: flex;flex-direction: column;z-index: 1;position: relative;background-color: white;}#sk-container-id-1 div.sk-parallel-item:first-child::after {align-self: flex-end;width: 50%;}#sk-container-id-1 div.sk-parallel-item:last-child::after {align-self: flex-start;width: 50%;}#sk-container-id-1 div.sk-parallel-item:only-child::after {width: 0;}#sk-container-id-1 div.sk-dashed-wrapped {border: 1px dashed gray;margin: 0 0.4em 0.5em 0.4em;box-sizing: border-box;padding-bottom: 0.4em;background-color: white;}#sk-container-id-1 div.sk-label label {font-family: monospace;font-weight: bold;display: inline-block;line-height: 1.2em;}#sk-container-id-1 div.sk-label-container {text-align: center;}#sk-container-id-1 div.sk-container {/* jupyter's `normalize.less` sets `[hidden] { display: none; }` but bootstrap.min.css set `[hidden] { display: none !important; }` so we also need the `!important` here to be able to override the default hidden behavior on the sphinx rendered scikit-learn.org. See: https://github.com/scikit-learn/scikit-learn/issues/21755 */display: inline-block !important;position: relative;}#sk-container-id-1 div.sk-text-repr-fallback {display: none;}</style><div id=\"sk-container-id-1\" class=\"sk-top-container\"><div class=\"sk-text-repr-fallback\"><pre>SVC(C=10)</pre><b>In a Jupyter environment, please rerun this cell to show the HTML representation or trust the notebook. <br />On GitHub, the HTML representation is unable to render, please try loading this page with nbviewer.org.</b></div><div class=\"sk-container\" hidden><div class=\"sk-item\"><div class=\"sk-estimator sk-toggleable\"><input class=\"sk-toggleable__control sk-hidden--visually\" id=\"sk-estimator-id-1\" type=\"checkbox\" checked><label for=\"sk-estimator-id-1\" class=\"sk-toggleable__label sk-toggleable__label-arrow\">SVC</label><div class=\"sk-toggleable__content\"><pre>SVC(C=10)</pre></div></div></div></div></div>"
      ],
      "text/plain": [
       "SVC(C=10)"
      ]
     },
     "execution_count": 14,
     "metadata": {},
     "output_type": "execute_result"
    }
   ],
   "source": [
    "svm_model = SVC(C=10, kernel='rbf', gamma='scale')\n",
    "svm_model.fit(X_tfidf_train, y)\n"
   ]
  },
  {
   "cell_type": "markdown",
   "id": "446ae9e4",
   "metadata": {},
   "source": [
    "### Using the model to predict the sentiment of cleaned text"
   ]
  },
  {
   "cell_type": "code",
   "execution_count": 15,
   "id": "b33751b6",
   "metadata": {},
   "outputs": [],
   "source": [
    "review_tweet = tfidf_vectors.toarray()\n",
    "review_sentiment = svm_model.predict(review_tweet)\n",
    "\n",
    "data_cleaned['sentiment'] = review_sentiment"
   ]
  },
  {
   "cell_type": "code",
   "execution_count": 16,
   "id": "9eeae762",
   "metadata": {},
   "outputs": [],
   "source": [
    "sentiment_map = {-1: 'Negative', 0: 'Neutral', 1: 'Positive'}\n",
    "data_cleaned['sentiment_label'] = data_cleaned['sentiment'].map(sentiment_map)"
   ]
  },
  {
   "cell_type": "code",
   "execution_count": 17,
   "id": "e3a8aa75",
   "metadata": {},
   "outputs": [],
   "source": [
    "data_cleaned.to_excel(\"show_review.xlsx\", index=False)"
   ]
  },
  {
   "cell_type": "code",
   "execution_count": null,
   "id": "53afff02",
   "metadata": {},
   "outputs": [],
   "source": []
  },
  {
   "cell_type": "code",
   "execution_count": null,
   "id": "d37057a0",
   "metadata": {},
   "outputs": [],
   "source": []
  }
 ],
 "metadata": {
  "kernelspec": {
   "display_name": "Python 3 (ipykernel)",
   "language": "python",
   "name": "python3"
  },
  "language_info": {
   "codemirror_mode": {
    "name": "ipython",
    "version": 3
   },
   "file_extension": ".py",
   "mimetype": "text/x-python",
   "name": "python",
   "nbconvert_exporter": "python",
   "pygments_lexer": "ipython3",
   "version": "3.11.5"
  }
 },
 "nbformat": 4,
 "nbformat_minor": 5
}
