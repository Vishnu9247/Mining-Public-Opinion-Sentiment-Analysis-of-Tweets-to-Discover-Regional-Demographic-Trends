{
 "cells": [
  {
   "cell_type": "markdown",
   "id": "3c83438e",
   "metadata": {},
   "source": [
    "### Importing all the required libraries"
   ]
  },
  {
   "cell_type": "code",
   "execution_count": 12,
   "id": "be737d31",
   "metadata": {},
   "outputs": [
    {
     "name": "stderr",
     "output_type": "stream",
     "text": [
      "[nltk_data] Downloading package stopwords to\n",
      "[nltk_data]     C:\\Users\\VISHNU\\AppData\\Roaming\\nltk_data...\n",
      "[nltk_data]   Package stopwords is already up-to-date!\n",
      "[nltk_data] Downloading package punkt to\n",
      "[nltk_data]     C:\\Users\\VISHNU\\AppData\\Roaming\\nltk_data...\n",
      "[nltk_data]   Package punkt is already up-to-date!\n",
      "[nltk_data] Downloading package wordnet to\n",
      "[nltk_data]     C:\\Users\\VISHNU\\AppData\\Roaming\\nltk_data...\n",
      "[nltk_data]   Package wordnet is already up-to-date!\n"
     ]
    },
    {
     "data": {
      "text/plain": [
       "True"
      ]
     },
     "execution_count": 12,
     "metadata": {},
     "output_type": "execute_result"
    }
   ],
   "source": [
    "import numpy as np\n",
    "import pandas as pd\n",
    "import matplotlib.pyplot as plt  \n",
    "\n",
    "import re\n",
    "import nltk\n",
    "from nltk.corpus import stopwords\n",
    "from nltk.tokenize import word_tokenize\n",
    "from nltk.stem import WordNetLemmatizer\n",
    "\n",
    "nltk.download(\"stopwords\")\n",
    "nltk.download(\"punkt\")\n",
    "nltk.download(\"wordnet\")"
   ]
  },
  {
   "cell_type": "markdown",
   "id": "55df050f",
   "metadata": {},
   "source": [
    "### Importing the data from csv file"
   ]
  },
  {
   "cell_type": "code",
   "execution_count": 13,
   "id": "92457976",
   "metadata": {},
   "outputs": [],
   "source": [
    "data1 = pd.read_csv(\"LabeledText.csv\")\n",
    "#data2 = pd.read_csv(\"twitter.csv\")\n",
    "#data3 = pd.read_csv(\"Twitter_Data.csv\")"
   ]
  },
  {
   "cell_type": "code",
   "execution_count": 14,
   "id": "83786917",
   "metadata": {},
   "outputs": [
    {
     "data": {
      "text/html": [
       "<div>\n",
       "<style scoped>\n",
       "    .dataframe tbody tr th:only-of-type {\n",
       "        vertical-align: middle;\n",
       "    }\n",
       "\n",
       "    .dataframe tbody tr th {\n",
       "        vertical-align: top;\n",
       "    }\n",
       "\n",
       "    .dataframe thead th {\n",
       "        text-align: right;\n",
       "    }\n",
       "</style>\n",
       "<table border=\"1\" class=\"dataframe\">\n",
       "  <thead>\n",
       "    <tr style=\"text-align: right;\">\n",
       "      <th></th>\n",
       "      <th>File Name</th>\n",
       "      <th>Caption</th>\n",
       "      <th>LABEL</th>\n",
       "    </tr>\n",
       "  </thead>\n",
       "  <tbody>\n",
       "    <tr>\n",
       "      <th>0</th>\n",
       "      <td>1.txt</td>\n",
       "      <td>How I feel today #legday #jelly #aching #gym</td>\n",
       "      <td>negative</td>\n",
       "    </tr>\n",
       "    <tr>\n",
       "      <th>1</th>\n",
       "      <td>10.txt</td>\n",
       "      <td>@ArrivaTW absolute disgrace two carriages from...</td>\n",
       "      <td>negative</td>\n",
       "    </tr>\n",
       "    <tr>\n",
       "      <th>2</th>\n",
       "      <td>100.txt</td>\n",
       "      <td>This is my Valentine's from 1 of my nephews. I...</td>\n",
       "      <td>positive</td>\n",
       "    </tr>\n",
       "    <tr>\n",
       "      <th>3</th>\n",
       "      <td>1000.txt</td>\n",
       "      <td>betterfeelingfilms: RT via Instagram: First da...</td>\n",
       "      <td>neutral</td>\n",
       "    </tr>\n",
       "    <tr>\n",
       "      <th>4</th>\n",
       "      <td>1001.txt</td>\n",
       "      <td>Zoe's first love #Rattled @JohnnyHarper15</td>\n",
       "      <td>positive</td>\n",
       "    </tr>\n",
       "  </tbody>\n",
       "</table>\n",
       "</div>"
      ],
      "text/plain": [
       "  File Name                                            Caption     LABEL\n",
       "0     1.txt      How I feel today #legday #jelly #aching #gym   negative\n",
       "1    10.txt  @ArrivaTW absolute disgrace two carriages from...  negative\n",
       "2   100.txt  This is my Valentine's from 1 of my nephews. I...  positive\n",
       "3  1000.txt  betterfeelingfilms: RT via Instagram: First da...   neutral\n",
       "4  1001.txt         Zoe's first love #Rattled @JohnnyHarper15   positive"
      ]
     },
     "execution_count": 14,
     "metadata": {},
     "output_type": "execute_result"
    }
   ],
   "source": [
    "data1.head()"
   ]
  },
  {
   "cell_type": "code",
   "execution_count": 15,
   "id": "e97098a8",
   "metadata": {},
   "outputs": [],
   "source": [
    "#data2.head()"
   ]
  },
  {
   "cell_type": "code",
   "execution_count": 16,
   "id": "9ecf3cb9",
   "metadata": {},
   "outputs": [],
   "source": [
    "#data3.head()"
   ]
  },
  {
   "cell_type": "markdown",
   "id": "08be5508",
   "metadata": {},
   "source": [
    "### Removing irrelavent columns and checking if there are any rows will null values"
   ]
  },
  {
   "cell_type": "code",
   "execution_count": 17,
   "id": "f2797f9e",
   "metadata": {},
   "outputs": [],
   "source": [
    "data1 = data1.drop(\"File Name\", axis = 1)\n",
    "#data2 = data2.drop(\"id\", axis = 1)"
   ]
  },
  {
   "cell_type": "code",
   "execution_count": 18,
   "id": "af7a38f7",
   "metadata": {},
   "outputs": [
    {
     "name": "stdout",
     "output_type": "stream",
     "text": [
      "0\n"
     ]
    }
   ],
   "source": [
    "print(data1.isnull().sum().sum())\n",
    "#print(data3.isnull().sum().sum())"
   ]
  },
  {
   "cell_type": "code",
   "execution_count": 19,
   "id": "2ae58307",
   "metadata": {},
   "outputs": [],
   "source": [
    "#data3 = data3.dropna()\n",
    "#print(data3.isnull().sum().sum())"
   ]
  },
  {
   "cell_type": "markdown",
   "id": "fce24b69",
   "metadata": {},
   "source": [
    "### Changing the name of the columns to maping the label"
   ]
  },
  {
   "cell_type": "code",
   "execution_count": 20,
   "id": "8717b479",
   "metadata": {},
   "outputs": [],
   "source": [
    "data1.columns = [\"tweet\", \"label\"]\n",
    "#data2.columns = [\"label\", \"tweet\"]\n",
    "#data3.columns = [\"tweet\", \"label\"]"
   ]
  },
  {
   "cell_type": "code",
   "execution_count": 21,
   "id": "cc372de0",
   "metadata": {},
   "outputs": [],
   "source": [
    "sentiment_mapping = {\"negative\": -1, \"neutral\": 0, \"positive\": 1}\n",
    "data1[\"label\"] = data1[\"label\"].map(sentiment_mapping)"
   ]
  },
  {
   "cell_type": "code",
   "execution_count": 22,
   "id": "324aec71",
   "metadata": {},
   "outputs": [],
   "source": [
    "#data3[\"label\"] = data3[\"label\"].astype(int)"
   ]
  },
  {
   "cell_type": "code",
   "execution_count": 23,
   "id": "51213eac",
   "metadata": {},
   "outputs": [],
   "source": [
    "#data = pd.concat([data1, data3], ignore_index=True) "
   ]
  },
  {
   "cell_type": "code",
   "execution_count": 24,
   "id": "e7ad9644",
   "metadata": {},
   "outputs": [
    {
     "data": {
      "text/html": [
       "<div>\n",
       "<style scoped>\n",
       "    .dataframe tbody tr th:only-of-type {\n",
       "        vertical-align: middle;\n",
       "    }\n",
       "\n",
       "    .dataframe tbody tr th {\n",
       "        vertical-align: top;\n",
       "    }\n",
       "\n",
       "    .dataframe thead th {\n",
       "        text-align: right;\n",
       "    }\n",
       "</style>\n",
       "<table border=\"1\" class=\"dataframe\">\n",
       "  <thead>\n",
       "    <tr style=\"text-align: right;\">\n",
       "      <th></th>\n",
       "      <th>tweet</th>\n",
       "      <th>label</th>\n",
       "    </tr>\n",
       "  </thead>\n",
       "  <tbody>\n",
       "    <tr>\n",
       "      <th>0</th>\n",
       "      <td>How I feel today #legday #jelly #aching #gym</td>\n",
       "      <td>-1</td>\n",
       "    </tr>\n",
       "    <tr>\n",
       "      <th>1</th>\n",
       "      <td>@ArrivaTW absolute disgrace two carriages from...</td>\n",
       "      <td>-1</td>\n",
       "    </tr>\n",
       "    <tr>\n",
       "      <th>2</th>\n",
       "      <td>This is my Valentine's from 1 of my nephews. I...</td>\n",
       "      <td>1</td>\n",
       "    </tr>\n",
       "    <tr>\n",
       "      <th>3</th>\n",
       "      <td>betterfeelingfilms: RT via Instagram: First da...</td>\n",
       "      <td>0</td>\n",
       "    </tr>\n",
       "    <tr>\n",
       "      <th>4</th>\n",
       "      <td>Zoe's first love #Rattled @JohnnyHarper15</td>\n",
       "      <td>1</td>\n",
       "    </tr>\n",
       "  </tbody>\n",
       "</table>\n",
       "</div>"
      ],
      "text/plain": [
       "                                               tweet  label\n",
       "0      How I feel today #legday #jelly #aching #gym      -1\n",
       "1  @ArrivaTW absolute disgrace two carriages from...     -1\n",
       "2  This is my Valentine's from 1 of my nephews. I...      1\n",
       "3  betterfeelingfilms: RT via Instagram: First da...      0\n",
       "4         Zoe's first love #Rattled @JohnnyHarper15       1"
      ]
     },
     "execution_count": 24,
     "metadata": {},
     "output_type": "execute_result"
    }
   ],
   "source": [
    "data1.head()"
   ]
  },
  {
   "cell_type": "markdown",
   "id": "1561286b",
   "metadata": {},
   "source": [
    "### Plotting the label to understand the distribution"
   ]
  },
  {
   "cell_type": "code",
   "execution_count": 15,
   "id": "0d8ab884",
   "metadata": {},
   "outputs": [
    {
     "data": {
      "image/png": "[encoded data removed]",
      "text/plain": [
       "<Figure size 800x400 with 1 Axes>"
      ]
     },
     "metadata": {},
     "output_type": "display_data"
    }
   ],
   "source": [
    "plt.figure(figsize=(8, ))  \n",
    "data1[\"label\"].value_counts().plot(kind=\"bar\", color=[\"red\", \"blue\", \"green\"])\n",
    "plt.xlabel(\"Sentiment\")\n",
    "plt.ylabel(\"Count\")\n",
    "plt.title(\"Sentiment Distribution\")\n",
    "plt.show()"
   ]
  },
  {
   "cell_type": "code",
   "execution_count": 19,
   "id": "49974af7",
   "metadata": {},
   "outputs": [
    {
     "data": {
      "image/png": "[encoded data removed]",
      "text/plain": [
       "<Figure size 640x480 with 1 Axes>"
      ]
     },
     "metadata": {},
     "output_type": "display_data"
    }
   ],
   "source": [
    "sentiment_counts = data1[\"label\"].value_counts()\n",
    "sentiment_counts.plot(kind=\"pie\", autopct=\"%1.1f%%\", colors=[\"red\", \"blue\", \"green\"], startangle=90)\n",
    "plt.title(\"Sentiment Distribution\")\n",
    "plt.show()"
   ]
  },
  {
   "cell_type": "markdown",
   "id": "c7541f27",
   "metadata": {},
   "source": [
    "### Creating a function to remove characters that does not add value"
   ]
  },
  {
   "cell_type": "code",
   "execution_count": 14,
   "id": "81173421",
   "metadata": {},
   "outputs": [],
   "source": [
    "def clean_text(text):\n",
    "    if isinstance(text, str):  \n",
    "        text = text.lower()  \n",
    "        text = re.sub(r\"http\\S+|www\\S+\", \"\", text)  \n",
    "        text = re.sub(r\"@\\w+\", \"\", text)  \n",
    "        text = re.sub(r\"#\\w+\", \"\", text)  \n",
    "        text = re.sub(r\"[^a-zA-Z\\s]\", \"\", text)  \n",
    "        text = re.sub(r\"\\s+\", \" \", text).strip()  \n",
    "        \n",
    "        words = word_tokenize(text)\n",
    "\n",
    "        stop_words = set(stopwords.words(\"english\"))\n",
    "        words = [word for word in words if word not in stop_words]\n",
    "\n",
    "        lemmatizer = WordNetLemmatizer()\n",
    "        words = [lemmatizer.lemmatize(word) for word in words]\n",
    "\n",
    "        return \" \".join(words)\n",
    "    return \"\"\n"
   ]
  },
  {
   "cell_type": "markdown",
   "id": "408c3eed",
   "metadata": {},
   "source": [
    "### Applying the function to the tweets and extracting useful data"
   ]
  },
  {
   "cell_type": "code",
   "execution_count": 16,
   "id": "0d4fb4f8",
   "metadata": {},
   "outputs": [],
   "source": [
    "data1[\"cleaned_text\"] = None"
   ]
  },
  {
   "cell_type": "code",
   "execution_count": 17,
   "id": "2a782daf",
   "metadata": {},
   "outputs": [],
   "source": [
    "data1[\"cleaned_text\"] = data1[\"tweet\"].apply(clean_text)"
   ]
  },
  {
   "cell_type": "code",
   "execution_count": 18,
   "id": "293231a8",
   "metadata": {},
   "outputs": [
    {
     "data": {
      "text/html": [
       "<div>\n",
       "<style scoped>\n",
       "    .dataframe tbody tr th:only-of-type {\n",
       "        vertical-align: middle;\n",
       "    }\n",
       "\n",
       "    .dataframe tbody tr th {\n",
       "        vertical-align: top;\n",
       "    }\n",
       "\n",
       "    .dataframe thead th {\n",
       "        text-align: right;\n",
       "    }\n",
       "</style>\n",
       "<table border=\"1\" class=\"dataframe\">\n",
       "  <thead>\n",
       "    <tr style=\"text-align: right;\">\n",
       "      <th></th>\n",
       "      <th>tweet</th>\n",
       "      <th>label</th>\n",
       "      <th>cleaned_text</th>\n",
       "    </tr>\n",
       "  </thead>\n",
       "  <tbody>\n",
       "    <tr>\n",
       "      <th>0</th>\n",
       "      <td>How I feel today #legday #jelly #aching #gym</td>\n",
       "      <td>-1</td>\n",
       "      <td>feel today</td>\n",
       "    </tr>\n",
       "    <tr>\n",
       "      <th>1</th>\n",
       "      <td>@ArrivaTW absolute disgrace two carriages from...</td>\n",
       "      <td>-1</td>\n",
       "      <td>absolute disgrace two carriage bangor half way...</td>\n",
       "    </tr>\n",
       "    <tr>\n",
       "      <th>2</th>\n",
       "      <td>This is my Valentine's from 1 of my nephews. I...</td>\n",
       "      <td>1</td>\n",
       "      <td>valentine nephew elated sometimes little thing...</td>\n",
       "    </tr>\n",
       "    <tr>\n",
       "      <th>3</th>\n",
       "      <td>betterfeelingfilms: RT via Instagram: First da...</td>\n",
       "      <td>0</td>\n",
       "      <td>betterfeelingfilms rt via instagram first day ...</td>\n",
       "    </tr>\n",
       "    <tr>\n",
       "      <th>4</th>\n",
       "      <td>Zoe's first love #Rattled @JohnnyHarper15</td>\n",
       "      <td>1</td>\n",
       "      <td>zoes first love</td>\n",
       "    </tr>\n",
       "    <tr>\n",
       "      <th>5</th>\n",
       "      <td>Chaotic Love - giclee print ?65 at #art #love ...</td>\n",
       "      <td>1</td>\n",
       "      <td>chaotic love giclee print</td>\n",
       "    </tr>\n",
       "    <tr>\n",
       "      <th>6</th>\n",
       "      <td>They gna be mad when I reach that goal though....</td>\n",
       "      <td>-1</td>\n",
       "      <td>gna mad reach goal though wrong girl getting s...</td>\n",
       "    </tr>\n",
       "    <tr>\n",
       "      <th>7</th>\n",
       "      <td>On day 9.. It's now in my daily routine.. Feel...</td>\n",
       "      <td>-1</td>\n",
       "      <td>day daily routine feeling guuuuurdddd</td>\n",
       "    </tr>\n",
       "    <tr>\n",
       "      <th>8</th>\n",
       "      <td>#ANIMALABUSE #TORONTO #PUPPY #TORTURE WE OFFER...</td>\n",
       "      <td>0</td>\n",
       "      <td>offer k puppy</td>\n",
       "    </tr>\n",
       "    <tr>\n",
       "      <th>9</th>\n",
       "      <td>Mike will not accept this plastic rose. @wfaam...</td>\n",
       "      <td>-1</td>\n",
       "      <td>mike accept plastic rose</td>\n",
       "    </tr>\n",
       "  </tbody>\n",
       "</table>\n",
       "</div>"
      ],
      "text/plain": [
       "                                               tweet  label  \\\n",
       "0      How I feel today #legday #jelly #aching #gym      -1   \n",
       "1  @ArrivaTW absolute disgrace two carriages from...     -1   \n",
       "2  This is my Valentine's from 1 of my nephews. I...      1   \n",
       "3  betterfeelingfilms: RT via Instagram: First da...      0   \n",
       "4         Zoe's first love #Rattled @JohnnyHarper15       1   \n",
       "5  Chaotic Love - giclee print ?65 at #art #love ...      1   \n",
       "6  They gna be mad when I reach that goal though....     -1   \n",
       "7  On day 9.. It's now in my daily routine.. Feel...     -1   \n",
       "8  #ANIMALABUSE #TORONTO #PUPPY #TORTURE WE OFFER...      0   \n",
       "9  Mike will not accept this plastic rose. @wfaam...     -1   \n",
       "\n",
       "                                        cleaned_text  \n",
       "0                                         feel today  \n",
       "1  absolute disgrace two carriage bangor half way...  \n",
       "2  valentine nephew elated sometimes little thing...  \n",
       "3  betterfeelingfilms rt via instagram first day ...  \n",
       "4                                    zoes first love  \n",
       "5                          chaotic love giclee print  \n",
       "6  gna mad reach goal though wrong girl getting s...  \n",
       "7              day daily routine feeling guuuuurdddd  \n",
       "8                                      offer k puppy  \n",
       "9                           mike accept plastic rose  "
      ]
     },
     "execution_count": 18,
     "metadata": {},
     "output_type": "execute_result"
    }
   ],
   "source": [
    "data1.head(10)"
   ]
  },
  {
   "cell_type": "code",
   "execution_count": 19,
   "id": "ede0300e",
   "metadata": {},
   "outputs": [
    {
     "data": {
      "text/plain": [
       "(4869, 3)"
      ]
     },
     "execution_count": 19,
     "metadata": {},
     "output_type": "execute_result"
    }
   ],
   "source": [
    "data1.shape"
   ]
  },
  {
   "cell_type": "markdown",
   "id": "df13bfb2",
   "metadata": {},
   "source": [
    "### Removing the tweet column and saving the dataframe into a csv file"
   ]
  },
  {
   "cell_type": "code",
   "execution_count": 21,
   "id": "0941a7b4",
   "metadata": {},
   "outputs": [],
   "source": [
    "data1 = data1.drop(\"tweet\", axis = 1)"
   ]
  },
  {
   "cell_type": "code",
   "execution_count": 22,
   "id": "e8b0485c",
   "metadata": {},
   "outputs": [
    {
     "data": {
      "text/plain": [
       "(4869, 2)"
      ]
     },
     "execution_count": 22,
     "metadata": {},
     "output_type": "execute_result"
    }
   ],
   "source": [
    "data1.shape"
   ]
  },
  {
   "cell_type": "code",
   "execution_count": 23,
   "id": "8bea786a",
   "metadata": {},
   "outputs": [],
   "source": [
    "data1.to_csv(\"tweet_sentiment.csv\", index = False)"
   ]
  },
  {
   "cell_type": "code",
   "execution_count": null,
   "id": "6e7c38e9",
   "metadata": {},
   "outputs": [],
   "source": []
  }
 ],
 "metadata": {
  "kernelspec": {
   "display_name": "Python 3 (ipykernel)",
   "language": "python",
   "name": "python3"
  },
  "language_info": {
   "codemirror_mode": {
    "name": "ipython",
    "version": 3
   },
   "file_extension": ".py",
   "mimetype": "text/x-python",
   "name": "python",
   "nbconvert_exporter": "python",
   "pygments_lexer": "ipython3",
   "version": "3.11.5"
  }
 },
 "nbformat": 4,
 "nbformat_minor": 5
}
